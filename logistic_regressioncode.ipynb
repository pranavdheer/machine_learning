{
 "cells": [
  {
   "cell_type": "code",
   "execution_count": 1,
   "metadata": {
    "collapsed": true
   },
   "outputs": [],
   "source": [
    "import numpy as np\n",
    "import pandas as pd\n",
    "from matplotlib import pyplot as plt\n",
    "%matplotlib inline"
   ]
  },
  {
   "cell_type": "code",
   "execution_count": 271,
   "metadata": {
    "collapsed": false
   },
   "outputs": [
    {
     "data": {
      "text/html": [
       "<div>\n",
       "<table border=\"1\" class=\"dataframe\">\n",
       "  <thead>\n",
       "    <tr style=\"text-align: right;\">\n",
       "      <th></th>\n",
       "      <th>var1</th>\n",
       "      <th>var2</th>\n",
       "      <th>label</th>\n",
       "    </tr>\n",
       "  </thead>\n",
       "  <tbody>\n",
       "    <tr>\n",
       "      <th>count</th>\n",
       "      <td>100.000000</td>\n",
       "      <td>100.000000</td>\n",
       "      <td>100.000000</td>\n",
       "    </tr>\n",
       "    <tr>\n",
       "      <th>mean</th>\n",
       "      <td>0.788559</td>\n",
       "      <td>4.413645</td>\n",
       "      <td>0.500000</td>\n",
       "    </tr>\n",
       "    <tr>\n",
       "      <th>std</th>\n",
       "      <td>5.614973</td>\n",
       "      <td>2.288227</td>\n",
       "      <td>0.502519</td>\n",
       "    </tr>\n",
       "    <tr>\n",
       "      <th>min</th>\n",
       "      <td>-8.719130</td>\n",
       "      <td>2.026715</td>\n",
       "      <td>0.000000</td>\n",
       "    </tr>\n",
       "    <tr>\n",
       "      <th>25%</th>\n",
       "      <td>-3.944210</td>\n",
       "      <td>2.573399</td>\n",
       "      <td>0.000000</td>\n",
       "    </tr>\n",
       "    <tr>\n",
       "      <th>50%</th>\n",
       "      <td>1.428670</td>\n",
       "      <td>2.972816</td>\n",
       "      <td>0.500000</td>\n",
       "    </tr>\n",
       "    <tr>\n",
       "      <th>75%</th>\n",
       "      <td>5.917302</td>\n",
       "      <td>6.148908</td>\n",
       "      <td>1.000000</td>\n",
       "    </tr>\n",
       "    <tr>\n",
       "      <th>max</th>\n",
       "      <td>9.884114</td>\n",
       "      <td>10.877416</td>\n",
       "      <td>1.000000</td>\n",
       "    </tr>\n",
       "  </tbody>\n",
       "</table>\n",
       "</div>"
      ],
      "text/plain": [
       "             var1        var2       label\n",
       "count  100.000000  100.000000  100.000000\n",
       "mean     0.788559    4.413645    0.500000\n",
       "std      5.614973    2.288227    0.502519\n",
       "min     -8.719130    2.026715    0.000000\n",
       "25%     -3.944210    2.573399    0.000000\n",
       "50%      1.428670    2.972816    0.500000\n",
       "75%      5.917302    6.148908    1.000000\n",
       "max      9.884114   10.877416    1.000000"
      ]
     },
     "execution_count": 271,
     "metadata": {},
     "output_type": "execute_result"
    }
   ],
   "source": [
    "a = pd.read_csv('./machine_learning/toy.csv')\n",
    "d = a.values\n",
    "a.describe()"
   ]
  },
  {
   "cell_type": "code",
   "execution_count": 284,
   "metadata": {
    "collapsed": false
   },
   "outputs": [
    {
     "name": "stdout",
     "output_type": "stream",
     "text": [
      "[-10.          -9.59183673  -9.18367347  -8.7755102   -8.36734694\n",
      "  -7.95918367  -7.55102041  -7.14285714  -6.73469388  -6.32653061\n",
      "  -5.91836735  -5.51020408  -5.10204082  -4.69387755  -4.28571429\n",
      "  -3.87755102  -3.46938776  -3.06122449  -2.65306122  -2.24489796\n",
      "  -1.83673469  -1.42857143  -1.02040816  -0.6122449   -0.20408163\n",
      "   0.20408163   0.6122449    1.02040816   1.42857143   1.83673469\n",
      "   2.24489796   2.65306122   3.06122449   3.46938776   3.87755102\n",
      "   4.28571429   4.69387755   5.10204082   5.51020408   5.91836735\n",
      "   6.32653061   6.73469388   7.14285714   7.55102041   7.95918367\n",
      "   8.36734694   8.7755102    9.18367347   9.59183673  10.        ]\n",
      "[[  6.02494983  10.87741633   1.        ]\n",
      " [ -1.41197734   6.01971808   1.        ]\n",
      " [  6.49701735   7.50608586   1.        ]\n",
      " [  1.92901092   2.5803534    0.        ]\n",
      " [ -5.26320254   8.5527217    1.        ]]\n"
     ]
    }
   ],
   "source": [
    "x_val = np.linspace(-10, 10)\n",
    "print d[:5]"
   ]
  },
  {
   "cell_type": "code",
   "execution_count": 273,
   "metadata": {
    "collapsed": true
   },
   "outputs": [],
   "source": [
    "def sigmoid(x):\n",
    "    return 1/(1.0 + np.exp(-1.0 * x))\n",
    "\n",
    "def tanh(x):\n",
    "    return np.tanh(x)\n",
    "\n",
    "def scaled_tanh(x):\n",
    "    return (tanh(x) + 1)/2.0"
   ]
  },
  {
   "cell_type": "code",
   "execution_count": 288,
   "metadata": {
    "collapsed": false
   },
   "outputs": [
    {
     "name": "stdout",
     "output_type": "stream",
     "text": [
      "6.82792246023e-05\n",
      "0.73105857863\n"
     ]
    },
    {
     "data": {
      "image/png": "[encoded data removed]",
      "text/plain": [
       "<matplotlib.figure.Figure at 0x7fe521e99990>"
      ]
     },
     "metadata": {},
     "output_type": "display_data"
    }
   ],
   "source": [
    "a = sigmoid(x_val)\n",
    "b = scaled_tanh(x_val)\n",
    "print a[1]\n",
    "plt.plot(a, 'r')\n",
    "plt.plot(b)\n",
    "plt.show()"
   ]
  },
  {
   "cell_type": "code",
   "execution_count": 275,
   "metadata": {
    "collapsed": false
   },
   "outputs": [
    {
     "data": {
      "image/png": "[encoded data removed]",
      "text/plain": [
       "<matplotlib.figure.Figure at 0x7fe5222981d0>"
      ]
     },
     "metadata": {},
     "output_type": "display_data"
    }
   ],
   "source": [
    "for ix in range(100):\n",
    "    if d[ix, 2] == 1:\n",
    "        plt.scatter(d[ix, 0], d[ix, 1], color='red')\n",
    "    else:\n",
    "        plt.scatter(d[ix, 0], d[ix, 1], color='green')"
   ]
  },
  {
   "cell_type": "code",
   "execution_count": 300,
   "metadata": {
    "collapsed": false
   },
   "outputs": [
    {
     "name": "stdout",
     "output_type": "stream",
     "text": [
      "(100, 2) (100, 1)\n",
      "(100, 2)\n",
      "[[ 0.9372744   2.83902482  1.        ]\n",
      " [-0.39387949  0.70542104  1.        ]\n",
      " [ 1.02177093  1.3582652   1.        ]\n",
      " [ 0.20413222 -0.80522065  1.        ]\n",
      " [-1.08321977  1.81796979  1.        ]]\n",
      "\n",
      "[[  6.02494983  10.87741633   1.        ]\n",
      " [ -1.41197734   6.01971808   1.        ]\n",
      " [  6.49701735   7.50608586   1.        ]\n",
      " [  1.92901092   2.5803534    0.        ]\n",
      " [ -5.26320254   8.5527217    1.        ]]\n",
      "(100, 3)\n",
      "(1, 3)\n"
     ]
    }
   ],
   "source": [
    "X = d[:, :2]\n",
    "y = d[:, 2]\n",
    "y= y.reshape(100,1)\n",
    "print X.shape, y.shape\n",
    "param_init=np.zeros((1,3))\n",
    "mean=X.mean(axis=0)\n",
    "std=X.std(axis=0)\n",
    "X=(X-mean)/std\n",
    "print X.shape\n",
    "data=np.ones((100,3))\n",
    "\n",
    "data[:,:2]=X[:,:2]\n",
    "print data[:5]\n",
    "print\n",
    "print d[:5]\n",
    "print data.shape\n",
    "print param_init.shape"
   ]
  },
  {
   "cell_type": "code",
   "execution_count": 277,
   "metadata": {
    "collapsed": false
   },
   "outputs": [],
   "source": [
    "\n",
    "def probability(param):\n",
    "    return 1/(1+np.exp(-1*(np.dot(data,param.T))))\n",
    "\n",
    "\n",
    "def para_update(param,alpha):\n",
    "    error=y-probability(param)\n",
    "    p= np.dot(error.T,data)\n",
    "    param=param+(p*alpha)\n",
    "\n",
    "    return param\n",
    "\n",
    "def loss(param):\n",
    "     l=y*np.log(probability(param)+1e-24) + (1-y)*np.log(1-probability(param)+1e-24)\n",
    "     return -1*l.sum()\n",
    "\n",
    "def grad_descant(para_init,alpha,epochs):\n",
    "    loss_para=[]\n",
    "    para_hist=[]\n",
    "    param=para_init\n",
    "    for ix in range(epochs):\n",
    "        loss_para.append(loss(param))\n",
    "        para_hist.append(param)\n",
    "        param=para_update(param,alpha)\n",
    "        \n",
    "    return para_hist,loss_para\n",
    "\n",
    "#print para_update(param_init,0.4)\n",
    "#print loss(param_init)"
   ]
  },
  {
   "cell_type": "code",
   "execution_count": 278,
   "metadata": {
    "collapsed": false
   },
   "outputs": [
    {
     "name": "stdout",
     "output_type": "stream",
     "text": [
      "(10, 3)\n",
      "[[  0.           0.           0.        ]\n",
      " [  1.20706353  16.38396672   0.        ]\n",
      " [ -0.74727044  15.03042175   4.3012188 ]\n",
      " [ -1.55195148  13.93460925   6.36133401]\n",
      " [ -1.37597916  13.62736231   6.98323627]\n",
      " [ -0.77775526  13.83496313   6.82144361]\n",
      " [ -0.98120219  13.55117013   7.34880181]\n",
      " [ -0.57636696  13.91317323   6.92531181]\n",
      " [ -0.91232666  13.61226852   7.46941294]\n",
      " [ -0.54899021  14.01482227   6.97910695]]\n",
      "[69.314718055994533, 64.425163584693323, 20.658283483634523, 9.7798697829916108, 9.1648816012910128, 9.0551518442706218, 8.9773483729799732, 9.1090385003399295, 8.9904693070163262, 9.1366643114323782]\n"
     ]
    }
   ],
   "source": [
    "p,l=grad_descant(param_init,0.4,10)\n",
    "p=np.asarray(p)\n",
    "p=p.reshape(10,3)\n",
    "print p.shape\n",
    "print p\n",
    "print l"
   ]
  },
  {
   "cell_type": "code",
   "execution_count": 279,
   "metadata": {
    "collapsed": false
   },
   "outputs": [
    {
     "data": {
      "image/png": "[encoded data removed]",
      "text/plain": [
       "<matplotlib.figure.Figure at 0x7fe522477ed0>"
      ]
     },
     "metadata": {},
     "output_type": "display_data"
    },
    {
     "data": {
      "image/png": "[encoded data removed]",
      "text/plain": [
       "<matplotlib.figure.Figure at 0x7fe521f06310>"
      ]
     },
     "metadata": {},
     "output_type": "display_data"
    }
   ],
   "source": [
    "plt.figure(0)\n",
    "plt.plot(l,color='red')\n",
    "plt.show()\n",
    "plt.figure(1)\n",
    "plt.plot(p[:,2],l,color='green')\n",
    "plt.show()"
   ]
  },
  {
   "cell_type": "code",
   "execution_count": 310,
   "metadata": {
    "collapsed": false
   },
   "outputs": [],
   "source": [
    "def predict(num):\n",
    "     #num=(num-mean)/std\n",
    "     y=p[9,0]*num[0]+p[9,1]*num[1]+p[9,2]\n",
    "     \n",
    "    \n",
    "     if y>0:\n",
    "            print \"red cluster\"\n",
    "     else:\n",
    "            print \"green cluster\""
   ]
  },
  {
   "cell_type": "code",
   "execution_count": 311,
   "metadata": {
    "collapsed": false
   },
   "outputs": [
    {
     "name": "stdout",
     "output_type": "stream",
     "text": [
      "red cluster\n"
     ]
    }
   ],
   "source": [
    "n=np.asarray([0,0])\n",
    "predict(n)\n",
    "#in accordance with orignal data"
   ]
  },
  {
   "cell_type": "code",
   "execution_count": 313,
   "metadata": {
    "collapsed": false
   },
   "outputs": [
    {
     "data": {
      "text/plain": [
       "[<matplotlib.lines.Line2D at 0x7fe51beeb710>]"
      ]
     },
     "execution_count": 313,
     "metadata": {},
     "output_type": "execute_result"
    },
    {
     "data": {
      "image/png": "[encoded data removed]",
      "text/plain": [
       "<matplotlib.figure.Figure at 0x7fe51be98250>"
      ]
     },
     "metadata": {},
     "output_type": "display_data"
    }
   ],
   "source": [
    "#y=[]\n",
    "plt.figure(0)\n",
    "for ix in range(100):\n",
    "    if y[ix] == 1:\n",
    "        plt.scatter(X[ix, 0], X[ix, 1], color='red')\n",
    "    else:\n",
    "        plt.scatter(X[ix, 0], X[ix, 1], color='green')  \n",
    "ap=np.linspace(-4,4)\n",
    "k=(-p[9,2]-p[9,0]*ap)/p[9,1]\n",
    "plt.plot(ap,k,'b')"
   ]
  },
  {
   "cell_type": "code",
   "execution_count": null,
   "metadata": {
    "collapsed": false
   },
   "outputs": [],
   "source": []
  },
  {
   "cell_type": "code",
   "execution_count": null,
   "metadata": {
    "collapsed": true
   },
   "outputs": [],
   "source": []
  }
 ],
 "metadata": {
  "kernelspec": {
   "display_name": "Python 2",
   "language": "python",
   "name": "python2"
  },
  "language_info": {
   "codemirror_mode": {
    "name": "ipython",
    "version": 2
   },
   "file_extension": ".py",
   "mimetype": "text/x-python",
   "name": "python",
   "nbconvert_exporter": "python",
   "pygments_lexer": "ipython2",
   "version": "2.7.12"
  }
 },
 "nbformat": 4,
 "nbformat_minor": 2
}
